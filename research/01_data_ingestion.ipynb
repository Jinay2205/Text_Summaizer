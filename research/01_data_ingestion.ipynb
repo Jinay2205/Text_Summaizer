{
 "cells": [
  {
   "cell_type": "code",
   "execution_count": 2,
   "metadata": {},
   "outputs": [],
   "source": [
    "import os\n",
    "os.chdir('../')"
   ]
  },
  {
   "cell_type": "code",
   "execution_count": 22,
   "metadata": {},
   "outputs": [
    {
     "data": {
      "text/plain": [
       "'/Users/jinayshah/Desktop/Text_Summaizer'"
      ]
     },
     "execution_count": 22,
     "metadata": {},
     "output_type": "execute_result"
    }
   ],
   "source": [
    "%pwd"
   ]
  },
  {
   "cell_type": "code",
   "execution_count": 23,
   "metadata": {},
   "outputs": [],
   "source": [
    "from dataclasses import dataclass\n",
    "from pathlib import Path\n",
    "\n",
    "@dataclass(frozen=True)\n",
    "class DataIngestionConfig :\n",
    "    root_dir : Path\n",
    "    source_url : str\n",
    "    local_data_file : Path\n",
    "    unzip_dir : Path "
   ]
  },
  {
   "cell_type": "code",
   "execution_count": 24,
   "metadata": {},
   "outputs": [],
   "source": [
    "from textsummarizer.constants import *\n",
    "from textsummarizer.utils.common import read_yaml,create_dir"
   ]
  },
  {
   "cell_type": "code",
   "execution_count": 25,
   "metadata": {},
   "outputs": [],
   "source": [
    "class ConfigurationManager :\n",
    "    def __init__(self,config_path = CONFIGURE_FILE_PATH,param_path = PARAM_FILE_PATH):\n",
    "\n",
    "        self.config = read_yaml(config_path)\n",
    "        self.param = read_yaml(param_path)\n",
    "        create_dir([self.config.artifacts_root])\n",
    "\n",
    "    def get_ingestion_config(self)->DataIngestionConfig :\n",
    "        config = self.config.data_ingestion\n",
    "        create_dir([config.root_dir])\n",
    "        data_ingestion_config = DataIngestionConfig(\n",
    "            root_dir=config.root_dir,\n",
    "            source_url=config.source_url,\n",
    "            local_data_file=config.local_data_file,\n",
    "            unzip_dir=config.unzip_dir\n",
    "        )\n",
    "        return data_ingestion_config"
   ]
  },
  {
   "cell_type": "code",
   "execution_count": 26,
   "metadata": {},
   "outputs": [],
   "source": [
    "import os\n",
    "import urllib.request as request\n",
    "import zipfile\n",
    "from textsummarizer.logging import logger\n",
    "from textsummarizer.utils.common import get_size\n",
    " "
   ]
  },
  {
   "cell_type": "code",
   "execution_count": 27,
   "metadata": {},
   "outputs": [],
   "source": [
    "class DataIngestion:\n",
    "    def __init__(self, config: DataIngestionConfig):\n",
    "        self.config = config\n",
    "\n",
    "    def download_file(self):\n",
    "        if not os.path.exists(self.config.local_data_file):\n",
    "            filename, header = request.urlretrieve(\n",
    "                url=self.config.source_url,\n",
    "                filename=self.config.local_data_file\n",
    "            )\n",
    "            logger.info(f'{filename} downloaded with following info: {header}')\n",
    "        else:\n",
    "            filename = self.config.local_data_file\n",
    "            logger.info(f'{filename} already exists of size {get_size(Path(filename))}')\n",
    "\n",
    "    def extract_zipfile(self):\n",
    "        unzip_path = self.config.unzip_dir\n",
    "        os.makedirs(unzip_path, exist_ok=True)\n",
    "        with zipfile.ZipFile(self.config.local_data_file, 'r') as file:\n",
    "            file.extractall(unzip_path)\n"
   ]
  },
  {
   "cell_type": "code",
   "execution_count": 34,
   "metadata": {},
   "outputs": [],
   "source": [
    "import os\n",
    "import ssl\n",
    "import logging\n",
    "import zipfile\n",
    "from pathlib import Path\n",
    "from urllib import request\n",
    "\n",
    "import certifi\n",
    "from textsummarizer.utils.common import get_size\n",
    "\n",
    "logger = logging.getLogger(__name__)\n",
    "\n",
    "class DataIngestion:\n",
    "    def __init__(self, config:DataIngestionConfig):\n",
    "        self.config = config\n",
    "\n",
    "    def download_file(self):\n",
    "        if not os.path.exists(self.config.local_data_file):\n",
    "            # Create an SSL context with the certifi CA certificates\n",
    "            ssl_context = ssl.create_default_context(cafile=certifi.where())\n",
    "            try:\n",
    "                # Use urlopen with the SSL context to download the file\n",
    "                with request.urlopen(self.config.source_url, context=ssl_context) as response:\n",
    "                    with open(self.config.local_data_file, 'wb') as file:\n",
    "                        file.write(response.read())\n",
    "                logger.info(f'{self.config.local_data_file} downloaded successfully')\n",
    "            except Exception as e:\n",
    "                logger.error(f'Error during file download: {e}')\n",
    "                raise\n",
    "        else:\n",
    "            filename = self.config.local_data_file\n",
    "            logger.info(f'{filename} already exists of size {get_size(Path(filename))}')\n",
    "\n",
    "    def extract_zipfile(self):\n",
    "        unzip_path = self.config.unzip_dir\n",
    "        os.makedirs(unzip_path, exist_ok=True)\n",
    "        with zipfile.ZipFile(self.config.local_data_file, 'r') as file:\n",
    "            file.extractall(unzip_path)\n",
    "        logger.info(f'ZIP file extracted to {unzip_path}')\n"
   ]
  },
  {
   "cell_type": "code",
   "execution_count": 33,
   "metadata": {},
   "outputs": [
    {
     "name": "stdout",
     "output_type": "stream",
     "text": [
      "[2024-01-30 23:47:47,747 : INFO : common : <_io.TextIOWrapper name='config/config.yaml' mode='r' encoding='UTF-8'> loaded]\n",
      "[2024-01-30 23:47:47,750 : INFO : common : <_io.TextIOWrapper name='params.yaml' mode='r' encoding='UTF-8'> loaded]\n",
      "[2024-01-30 23:47:47,751 : INFO : common : created a directory at : artifacts]\n",
      "[2024-01-30 23:47:47,752 : INFO : common : created a directory at : artifacts/data_ingestion]\n",
      "[2024-01-30 23:47:49,841 : INFO : 3016555923 : artifacts/data_ingestion/data.zip downloaded successfully]\n",
      "[2024-01-30 23:47:49,935 : INFO : 3016555923 : ZIP file extracted to artifacts/data_ingestion]\n"
     ]
    }
   ],
   "source": [
    "try :\n",
    "    config = ConfigurationManager()\n",
    "    data_ingestion_config = config.get_ingestion_config()\n",
    "    data_ingestion = DataIngestion(config=data_ingestion_config)\n",
    "    data_ingestion.download_file()\n",
    "    data_ingestion.extract_zipfile()\n",
    "except Exception as e:\n",
    "    raise e"
   ]
  },
  {
   "cell_type": "code",
   "execution_count": null,
   "metadata": {},
   "outputs": [],
   "source": []
  }
 ],
 "metadata": {
  "kernelspec": {
   "display_name": "Python 3",
   "language": "python",
   "name": "python3"
  },
  "language_info": {
   "codemirror_mode": {
    "name": "ipython",
    "version": 3
   },
   "file_extension": ".py",
   "mimetype": "text/x-python",
   "name": "python",
   "nbconvert_exporter": "python",
   "pygments_lexer": "ipython3",
   "version": "3.10.0"
  }
 },
 "nbformat": 4,
 "nbformat_minor": 2
}
