{
 "cells": [
  {
   "cell_type": "code",
   "execution_count": 1,
   "metadata": {},
   "outputs": [],
   "source": [
    "import os"
   ]
  },
  {
   "cell_type": "code",
   "execution_count": 2,
   "metadata": {},
   "outputs": [],
   "source": [
    "os.chdir('../')\n"
   ]
  },
  {
   "cell_type": "code",
   "execution_count": 3,
   "metadata": {},
   "outputs": [
    {
     "data": {
      "text/plain": [
       "'/Users/jinayshah/Desktop/Text_Summaizer'"
      ]
     },
     "execution_count": 3,
     "metadata": {},
     "output_type": "execute_result"
    }
   ],
   "source": [
    "%pwd"
   ]
  },
  {
   "cell_type": "code",
   "execution_count": 7,
   "metadata": {},
   "outputs": [],
   "source": [
    "from dataclasses import dataclass\n",
    "from pathlib import Path\n",
    "\n",
    "@dataclass(frozen=True)\n",
    "class DataValidationConfig :\n",
    "    root_dir : Path\n",
    "    STATUS_FILE : str\n",
    "    ALL_REQUIRED_FILES : list"
   ]
  },
  {
   "cell_type": "code",
   "execution_count": 5,
   "metadata": {},
   "outputs": [],
   "source": [
    "from textsummarizer.constants import *\n",
    "from textsummarizer.utils.common import read_yaml,create_dir"
   ]
  },
  {
   "cell_type": "code",
   "execution_count": 11,
   "metadata": {},
   "outputs": [],
   "source": [
    "class ConfigurationManager :\n",
    "    def __init__(self,config_path = CONFIGURE_FILE_PATH,param_path = PARAM_FILE_PATH):\n",
    "\n",
    "        self.config = read_yaml(config_path)\n",
    "        self.param = read_yaml(param_path)\n",
    "        create_dir([self.config.artifacts_root])\n",
    "\n",
    "    def get_validation_config(self)->DataValidationConfig :\n",
    "        config = self.config.data_validation\n",
    "        create_dir([config.root_dir])\n",
    "        data_validation_config = DataValidationConfig(\n",
    "            root_dir=config.root_dir,\n",
    "            STATUS_FILE=config.STATUS_FILE,\n",
    "            ALL_REQUIRED_FILES=config.ALL_REQUIRED_FILES,\n",
    "        )\n",
    "        return data_validation_config"
   ]
  },
  {
   "cell_type": "code",
   "execution_count": 12,
   "metadata": {},
   "outputs": [],
   "source": [
    "import os\n",
    "from textsummarizer.logging import logger"
   ]
  },
  {
   "cell_type": "code",
   "execution_count": 16,
   "metadata": {},
   "outputs": [],
   "source": [
    "class DataValidation :\n",
    "    def __init__(self,config :DataValidationConfig ):\n",
    "        self.config = config\n",
    "    def validate_all_files_exist(self) -> None:\n",
    "        try : \n",
    "            validation_status = None\n",
    "            all_files = os.listdir(os.path.join(\"artifacts\",\"data_ingestion\",\"samsum_dataset\"))\n",
    "            for file in all_files :\n",
    "                if file not in self.config.ALL_REQUIRED_FILES :\n",
    "                    validation_status = False\n",
    "                    with open(self.config.STATUS_FILE,'w') as file :\n",
    "                        file.write(f'Validation status : {validation_status}')\n",
    "                else :\n",
    "                    with open(self.config.STATUS_FILE,'w') as file :\n",
    "                        file.write(f'Validation Status : {validation_status}')\n",
    "            return validation_status\n",
    "        \n",
    "        except Exception as e :\n",
    "            raise e"
   ]
  },
  {
   "cell_type": "code",
   "execution_count": 18,
   "metadata": {},
   "outputs": [
    {
     "name": "stdout",
     "output_type": "stream",
     "text": [
      "[2024-01-31 23:47:11,800 : INFO : common : <_io.TextIOWrapper name='config/config.yaml' mode='r' encoding='UTF-8'> loaded]\n",
      "[2024-01-31 23:47:11,801 : INFO : common : <_io.TextIOWrapper name='params.yaml' mode='r' encoding='UTF-8'> loaded]\n",
      "[2024-01-31 23:47:11,802 : INFO : common : created a directory at : artifacts]\n",
      "[2024-01-31 23:47:11,803 : INFO : common : created a directory at : artifacts/data_validation]\n"
     ]
    }
   ],
   "source": [
    "try :\n",
    "    config = ConfigurationManager()\n",
    "    data_validation_config = config.get_validation_config()\n",
    "    data_validation= DataValidation(config=data_validation_config)\n",
    "    data_validation.validate_all_files_exist()\n",
    "except Exception as e:\n",
    "    raise e"
   ]
  }
 ],
 "metadata": {
  "kernelspec": {
   "display_name": "Python 3",
   "language": "python",
   "name": "python3"
  },
  "language_info": {
   "codemirror_mode": {
    "name": "ipython",
    "version": 3
   },
   "file_extension": ".py",
   "mimetype": "text/x-python",
   "name": "python",
   "nbconvert_exporter": "python",
   "pygments_lexer": "ipython3",
   "version": "3.10.0"
  }
 },
 "nbformat": 4,
 "nbformat_minor": 2
}
